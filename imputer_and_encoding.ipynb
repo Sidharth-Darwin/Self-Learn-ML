{
 "cells": [
  {
   "cell_type": "code",
   "execution_count": 159,
   "metadata": {},
   "outputs": [
    {
     "name": "stdout",
     "output_type": "stream",
     "text": [
      "                       0\n",
      "workclass               \n",
      " Private           22696\n",
      " Self-emp-not-inc   2541\n",
      " Local-gov          2093\n",
      " State-gov          1297\n",
      " Self-emp-inc       1116\n",
      " Federal-gov         960\n",
      " Without-pay          14\n",
      " Never-worked          7\n"
     ]
    }
   ],
   "source": [
    "import numpy as np\n",
    "import pandas as pd\n",
    "\n",
    "data = pd.read_csv(\"C:\\\\Users\\\\SIDDU\\\\OneDrive\\\\Desktop\\\\work\\\\selflearnml\\\\practice\\\\adult.data\",na_values=' ?')\n",
    "data.columns = [\"age\",\"workclass\",\"fnlwgt\",\"education\",\"education-num\",\"marital-status\",\n",
    "    \"occupation\",\"relationship\",\"race\",\"sex\",\"capital-gain\",\"capital-loss\",\"hours-per-week\",\n",
    "    \"native-country\",\"Salary\"]\n",
    "# print(data.info())\n",
    "# data = data.dropna(axis=0)\n",
    "# print(data.shape)\n",
    "\n",
    "# print(pd.DataFrame(data[['workclass']].value_counts()))"
   ]
  },
  {
   "cell_type": "code",
   "execution_count": 160,
   "metadata": {},
   "outputs": [],
   "source": [
    "X = data.drop([\"Salary\"],axis=1)\n",
    "y = data[\"Salary\"]"
   ]
  },
  {
   "cell_type": "code",
   "execution_count": 161,
   "metadata": {},
   "outputs": [],
   "source": [
    "from sklearn.model_selection import train_test_split\n",
    "X_train, X_test, y_train, y_test = train_test_split(X,y,test_size=0.2, stratify=y, random_state=10)"
   ]
  },
  {
   "cell_type": "code",
   "execution_count": 162,
   "metadata": {},
   "outputs": [
    {
     "name": "stdout",
     "output_type": "stream",
     "text": [
      "0    0\n",
      "1    1\n",
      "2    0\n",
      "3    1\n",
      "4    0\n",
      "Name: Salary, dtype: int32\n"
     ]
    }
   ],
   "source": [
    "from sklearn.preprocessing import LabelEncoder\n",
    "lb = LabelEncoder()\n",
    "y_train_encoded = pd.Series(lb.fit_transform(y_train))\n",
    "y_test_encoded = pd.Series(lb.transform(y_test))\n",
    "y_train_encoded.name = y_train.name\n",
    "y_test_encoded.name = y_test.name\n",
    "print(y_test_encoded.head())"
   ]
  },
  {
   "cell_type": "code",
   "execution_count": 163,
   "metadata": {},
   "outputs": [
    {
     "name": "stdout",
     "output_type": "stream",
     "text": [
      "      age      workclass  fnlwgt      education education-num  \\\n",
      "0      46        Private  503923        HS-grad             9   \n",
      "1      36        Private   48972   Some-college            10   \n",
      "2      43        Private  145441      Bachelors            13   \n",
      "3      65   Self-emp-inc  115922      Bachelors            13   \n",
      "4      22        Private  268145      Bachelors            13   \n",
      "...    ..            ...     ...            ...           ...   \n",
      "26043  51        Private  126010        HS-grad             9   \n",
      "26044  43        Private  133584   Some-college            10   \n",
      "26045  54        Private  175912           10th             6   \n",
      "26046  72    Federal-gov  217864        HS-grad             9   \n",
      "26047  25      State-gov  328697   Some-college            10   \n",
      "\n",
      "            marital-status          occupation     relationship    race  \\\n",
      "0       Married-civ-spouse   Machine-op-inspct          Husband   Black   \n",
      "1                 Divorced        Adm-clerical        Unmarried   White   \n",
      "2       Married-civ-spouse     Exec-managerial          Husband   White   \n",
      "3       Married-civ-spouse     Exec-managerial          Husband   White   \n",
      "4            Never-married               Sales    Not-in-family   White   \n",
      "...                    ...                 ...              ...     ...   \n",
      "26043   Married-civ-spouse        Craft-repair          Husband   White   \n",
      "26044   Married-civ-spouse   Machine-op-inspct          Husband   White   \n",
      "26045   Married-civ-spouse    Transport-moving          Husband   White   \n",
      "26046   Married-civ-spouse        Adm-clerical          Husband   White   \n",
      "26047             Divorced     Protective-serv   Other-relative   White   \n",
      "\n",
      "           sex capital-gain capital-loss hours-per-week  native-country  \n",
      "0         Male         4386            0             40   United-States  \n",
      "1       Female            0            0             40   United-States  \n",
      "2         Male            0            0             38   United-States  \n",
      "3         Male            0            0             40   United-States  \n",
      "4       Female            0            0             40   United-States  \n",
      "...        ...          ...          ...            ...             ...  \n",
      "26043     Male            0            0             40   United-States  \n",
      "26044     Male            0            0             40   United-States  \n",
      "26045     Male            0            0             40   United-States  \n",
      "26046     Male            0            0             40   United-States  \n",
      "26047     Male            0            0             45   United-States  \n",
      "\n",
      "[26048 rows x 14 columns]\n"
     ]
    }
   ],
   "source": [
    "from sklearn.impute import SimpleImputer\n",
    "imp = SimpleImputer(strategy=\"most_frequent\")\n",
    "X_train_imputed = pd.DataFrame(imp.fit_transform(X_train))\n",
    "X_test_imputed = pd.DataFrame(imp.transform(X_test))\n",
    "X_train_imputed.columns = X_train.columns\n",
    "X_test_imputed.columns = X_test.columns\n",
    "print(X_train_imputed)"
   ]
  },
  {
   "cell_type": "code",
   "execution_count": 164,
   "metadata": {},
   "outputs": [],
   "source": [
    "OHEfeatures = [\"workclass\",\"marital-status\",\"occupation\",\"relationship\",\"race\",\"sex\",\"native-country\"]\n",
    "from sklearn.preprocessing import OneHotEncoder\n",
    "oh = OneHotEncoder(sparse=False,handle_unknown='ignore')\n",
    "X_train_encoded = pd.DataFrame(oh.fit_transform(X_train_imputed[OHEfeatures]))\n",
    "X_test_encoded = pd.DataFrame(oh.transform(X_test_imputed[OHEfeatures]))\n"
   ]
  },
  {
   "cell_type": "code",
   "execution_count": 165,
   "metadata": {},
   "outputs": [
    {
     "name": "stdout",
     "output_type": "stream",
     "text": [
      "0         8.0\n",
      "1        10.0\n",
      "2        13.0\n",
      "3        13.0\n",
      "4        13.0\n",
      "         ... \n",
      "26043     8.0\n",
      "26044    10.0\n",
      "26045     5.0\n",
      "26046     8.0\n",
      "26047    10.0\n",
      "Name: education, Length: 26048, dtype: float64\n"
     ]
    }
   ],
   "source": [
    "edu = [' Preschool',' 1st-4th',' 5th-6th',' 7th-8th',' 9th',' 10th',' 11th',' 12th',' HS-grad' ,' Prof-school',' Some-college',' Assoc-acdm',' Assoc-voc',' Bachelors',' Masters',' Doctorate']\n",
    "from sklearn.preprocessing import OrdinalEncoder\n",
    "oe = OrdinalEncoder(categories=[edu])\n",
    "X_train_imputed[[\"education\"]] = pd.DataFrame(oe.fit_transform(X_train_imputed[[\"education\"]]))\n",
    "X_test_imputed[[\"education\"]] = pd.DataFrame(oe.transform(X_test_imputed[[\"education\"]]))\n",
    "print(X_train_imputed.education)"
   ]
  },
  {
   "cell_type": "code",
   "execution_count": 172,
   "metadata": {},
   "outputs": [
    {
     "name": "stdout",
     "output_type": "stream",
     "text": [
      "capital-gain\n",
      "0               23875\n",
      "15024             293\n",
      "7688              229\n",
      "7298              193\n",
      "99999             118\n",
      "                ...  \n",
      "2538                1\n",
      "4931                1\n",
      "7978                1\n",
      "7896                1\n",
      "1639                1\n",
      "Length: 117, dtype: int64\n"
     ]
    }
   ],
   "source": [
    "X_train_final = X_train_imputed.drop(OHEfeatures, axis=1).merge(X_train_encoded,left_index=True, right_index=True)\n",
    "X_test_final = X_test_imputed.drop(OHEfeatures, axis=1).merge(X_test_encoded,left_index=True, right_index=True)\n",
    "# print(X_train_final[['capital-gain']].value_counts())"
   ]
  },
  {
   "cell_type": "code",
   "execution_count": 167,
   "metadata": {},
   "outputs": [
    {
     "name": "stdout",
     "output_type": "stream",
     "text": [
      "0.7977579852579852\n",
      "0        <=50K\n",
      "1        <=50K\n",
      "2        <=50K\n",
      "3        <=50K\n",
      "4        <=50K\n",
      "         ...  \n",
      "6507     <=50K\n",
      "6508      >50K\n",
      "6509     <=50K\n",
      "6510     <=50K\n",
      "6511     <=50K\n",
      "Name: Salary, Length: 6512, dtype: object\n"
     ]
    }
   ],
   "source": [
    "from sklearn.neighbors import KNeighborsClassifier\n",
    "model = KNeighborsClassifier(n_neighbors=21)\n",
    "model.fit(X_train_final,y_train_encoded)\n",
    "predictions = model.predict(X_test_final)\n",
    "from sklearn.metrics import accuracy_score\n",
    "print(accuracy_score(predictions,y_test_encoded))\n",
    "print(pd.Series(lb.inverse_transform(predictions),name='Salary'))"
   ]
  },
  {
   "cell_type": "code",
   "execution_count": 168,
   "metadata": {},
   "outputs": [
    {
     "name": "stdout",
     "output_type": "stream",
     "text": [
      "0.7936117936117936\n",
      "0        <=50K\n",
      "1        <=50K\n",
      "2        <=50K\n",
      "3        <=50K\n",
      "4        <=50K\n",
      "         ...  \n",
      "6507     <=50K\n",
      "6508      >50K\n",
      "6509     <=50K\n",
      "6510     <=50K\n",
      "6511     <=50K\n",
      "Name: Salary, Length: 6512, dtype: object\n"
     ]
    }
   ],
   "source": [
    "from sklearn.svm import SVC\n",
    "model = SVC()\n",
    "model.fit(X_train_final,y_train_encoded)\n",
    "predictions2 = model.predict(X_test_final)\n",
    "print(accuracy_score(predictions2, y_test_encoded))\n",
    "print(pd.Series(lb.inverse_transform(predictions),name='Salary'))"
   ]
  },
  {
   "cell_type": "code",
   "execution_count": 174,
   "metadata": {},
   "outputs": [],
   "source": [
    "# from sklearn.preprocessing import StandardScaler\n",
    "# sc_X = StandardScaler()\n",
    "# X_train = sc_X.fit_transform(X_train)\n",
    "# X_test = sc_X.fit_transform(X_test)"
   ]
  },
  {
   "cell_type": "code",
   "execution_count": 176,
   "metadata": {},
   "outputs": [
    {
     "name": "stdout",
     "output_type": "stream",
     "text": [
      "0.8155712530712531\n",
      "0        <=50K\n",
      "1        <=50K\n",
      "2        <=50K\n",
      "3        <=50K\n",
      "4        <=50K\n",
      "         ...  \n",
      "6507     <=50K\n",
      "6508      >50K\n",
      "6509     <=50K\n",
      "6510     <=50K\n",
      "6511     <=50K\n",
      "Name: Salary, Length: 6512, dtype: object\n"
     ]
    }
   ],
   "source": [
    "from sklearn.tree import DecisionTreeClassifier\n",
    "model = DecisionTreeClassifier()\n",
    "model.fit(X_train_final,y_train_encoded)\n",
    "predictions2 = model.predict(X_test_final)\n",
    "print(accuracy_score(predictions2, y_test_encoded))\n",
    "print(pd.Series(lb.inverse_transform(predictions),name='Salary'))"
   ]
  },
  {
   "cell_type": "code",
   "execution_count": 183,
   "metadata": {},
   "outputs": [
    {
     "name": "stdout",
     "output_type": "stream",
     "text": [
      "0.8576474201474201\n",
      "0        <=50K\n",
      "1        <=50K\n",
      "2        <=50K\n",
      "3        <=50K\n",
      "4        <=50K\n",
      "         ...  \n",
      "6507     <=50K\n",
      "6508      >50K\n",
      "6509     <=50K\n",
      "6510     <=50K\n",
      "6511     <=50K\n",
      "Name: Salary, Length: 6512, dtype: object\n"
     ]
    }
   ],
   "source": [
    "from sklearn.ensemble import RandomForestClassifier\n",
    "model = RandomForestClassifier(n_estimators=500)\n",
    "model.fit(X_train_final,y_train_encoded)\n",
    "predictions2 = model.predict(X_test_final)\n",
    "print(accuracy_score(predictions2, y_test_encoded))\n",
    "print(pd.Series(lb.inverse_transform(predictions),name='Salary'))"
   ]
  }
 ],
 "metadata": {
  "interpreter": {
   "hash": "1652d30edbf08f5362f1dcb83ebe97343cb02d64d958a3fa60e7428774df2a16"
  },
  "kernelspec": {
   "display_name": "Python 3.7.4 64-bit ('labsession': venv)",
   "language": "python",
   "name": "python3"
  },
  "language_info": {
   "codemirror_mode": {
    "name": "ipython",
    "version": 3
   },
   "file_extension": ".py",
   "mimetype": "text/x-python",
   "name": "python",
   "nbconvert_exporter": "python",
   "pygments_lexer": "ipython3",
   "version": "3.7.4"
  },
  "orig_nbformat": 4
 },
 "nbformat": 4,
 "nbformat_minor": 2
}
