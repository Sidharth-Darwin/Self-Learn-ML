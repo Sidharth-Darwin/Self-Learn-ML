{
 "cells": [
  {
   "cell_type": "code",
   "execution_count": 169,
   "metadata": {},
   "outputs": [],
   "source": [
    "import pandas as pd\n",
    "import numpy as np\n",
    "\n",
    "data = pd.read_csv('C:\\\\Users\\\\SIDDU\\\\\\OneDrive\\\\\\Desktop\\\\work\\\\selflearnml\\\\practice\\\\breast-cancer-wisconsin.data',na_values='?')\n",
    "data.columns = ['Sample code number','Clump Thickness','Uniformity of Cell Size','Uniformity of Cell Shape','Marginal Adhesion','Single Epithelial Cell Size','Bare Nuclei','Bland Chromatin','Normal Nucleoli','Mitoses','Class']\n",
    "X = data.iloc[:,1:-1]\n",
    "y = data.iloc[:,-1]"
   ]
  },
  {
   "cell_type": "code",
   "execution_count": 183,
   "metadata": {},
   "outputs": [
    {
     "name": "stdout",
     "output_type": "stream",
     "text": [
      "Sample code number              0\n",
      "Clump Thickness                 0\n",
      "Uniformity of Cell Size         0\n",
      "Uniformity of Cell Shape        0\n",
      "Marginal Adhesion               0\n",
      "Single Epithelial Cell Size     0\n",
      "Bare Nuclei                    16\n",
      "Bland Chromatin                 0\n",
      "Normal Nucleoli                 0\n",
      "Mitoses                         0\n",
      "Class                           0\n",
      "dtype: int64\n"
     ]
    }
   ],
   "source": [
    "# x = [col for col in data['Bare Nuclei']]\n",
    "# print(x)\n",
    "print(data.isna().sum())"
   ]
  },
  {
   "cell_type": "code",
   "execution_count": 171,
   "metadata": {},
   "outputs": [
    {
     "name": "stdout",
     "output_type": "stream",
     "text": [
      "(558, 9)\n",
      "(558,)\n"
     ]
    }
   ],
   "source": [
    "from sklearn.model_selection import train_test_split\n",
    "X_train, X_test, y_train, y_test = train_test_split(X,y,stratify=y,random_state=0,test_size=0.2)\n",
    "print(X_train.shape)\n",
    "print(y_train.shape)"
   ]
  },
  {
   "cell_type": "code",
   "execution_count": 173,
   "metadata": {},
   "outputs": [],
   "source": [
    "from sklearn.impute import KNNImputer\n",
    "imp = KNNImputer(n_neighbors=3)\n",
    "X_train_imputed = pd.DataFrame(imp.fit_transform(X_train))\n",
    "X_test_imputed = pd.DataFrame(imp.transform(X_test))\n",
    "X_train_imputed.columns = X_train.columns\n",
    "X_test_imputed.columns = X_test.columns"
   ]
  },
  {
   "cell_type": "code",
   "execution_count": 180,
   "metadata": {},
   "outputs": [
    {
     "name": "stdout",
     "output_type": "stream",
     "text": [
      "benign\n",
      "malignant\n",
      "malignant\n",
      "benign\n",
      "malignant\n",
      "benign\n",
      "malignant\n",
      "benign\n",
      "benign\n",
      "malignant\n",
      "malignant\n",
      "benign\n",
      "benign\n",
      "benign\n",
      "benign\n",
      "benign\n",
      "benign\n",
      "benign\n",
      "benign\n",
      "malignant\n",
      "benign\n",
      "malignant\n",
      "benign\n",
      "malignant\n",
      "malignant\n",
      "malignant\n",
      "malignant\n",
      "malignant\n",
      "malignant\n",
      "malignant\n",
      "benign\n",
      "malignant\n",
      "benign\n",
      "malignant\n",
      "malignant\n",
      "malignant\n",
      "benign\n",
      "malignant\n",
      "benign\n",
      "malignant\n",
      "benign\n",
      "benign\n",
      "benign\n",
      "benign\n",
      "malignant\n",
      "benign\n",
      "benign\n",
      "malignant\n",
      "benign\n",
      "benign\n",
      "malignant\n",
      "benign\n",
      "malignant\n",
      "benign\n",
      "malignant\n",
      "benign\n",
      "malignant\n",
      "benign\n",
      "benign\n",
      "benign\n",
      "malignant\n",
      "benign\n",
      "benign\n",
      "malignant\n",
      "benign\n",
      "benign\n",
      "benign\n",
      "benign\n",
      "benign\n",
      "benign\n",
      "benign\n",
      "benign\n",
      "benign\n",
      "malignant\n",
      "benign\n",
      "benign\n",
      "benign\n",
      "benign\n",
      "benign\n",
      "malignant\n",
      "benign\n",
      "malignant\n",
      "malignant\n",
      "malignant\n",
      "benign\n",
      "benign\n",
      "benign\n",
      "benign\n",
      "malignant\n",
      "benign\n",
      "benign\n",
      "benign\n",
      "benign\n",
      "benign\n",
      "malignant\n",
      "malignant\n",
      "benign\n",
      "malignant\n",
      "benign\n",
      "malignant\n",
      "malignant\n",
      "malignant\n",
      "benign\n",
      "benign\n",
      "malignant\n",
      "malignant\n",
      "benign\n",
      "benign\n",
      "benign\n",
      "benign\n",
      "benign\n",
      "malignant\n",
      "benign\n",
      "benign\n",
      "malignant\n",
      "benign\n",
      "benign\n",
      "malignant\n",
      "benign\n",
      "benign\n",
      "benign\n",
      "benign\n",
      "malignant\n",
      "malignant\n",
      "benign\n",
      "benign\n",
      "benign\n",
      "benign\n",
      "malignant\n",
      "malignant\n",
      "benign\n",
      "malignant\n",
      "benign\n",
      "benign\n",
      "benign\n",
      "benign\n",
      "benign\n",
      "benign\n",
      "benign\n",
      "benign\n"
     ]
    }
   ],
   "source": [
    "from sklearn.svm import SVC\n",
    "model = SVC(random_state=0)\n",
    "model.fit(X_train_imputed,y_train)\n",
    "prediction = model.predict(X_test_imputed)\n",
    "# for i in prediction:\n",
    "#     if i == 2:\n",
    "#         print('benign')\n",
    "#     else:\n",
    "#         print('malignant')"
   ]
  },
  {
   "cell_type": "code",
   "execution_count": 181,
   "metadata": {},
   "outputs": [
    {
     "name": "stdout",
     "output_type": "stream",
     "text": [
      "0.9785714285714285\n"
     ]
    }
   ],
   "source": [
    "from sklearn.metrics import accuracy_score\n",
    "print(accuracy_score(prediction,y_test))"
   ]
  }
 ],
 "metadata": {
  "interpreter": {
   "hash": "1652d30edbf08f5362f1dcb83ebe97343cb02d64d958a3fa60e7428774df2a16"
  },
  "kernelspec": {
   "display_name": "Python 3.7.4 64-bit ('labsession': venv)",
   "language": "python",
   "name": "python3"
  },
  "language_info": {
   "codemirror_mode": {
    "name": "ipython",
    "version": 3
   },
   "file_extension": ".py",
   "mimetype": "text/x-python",
   "name": "python",
   "nbconvert_exporter": "python",
   "pygments_lexer": "ipython3",
   "version": "3.7.4"
  },
  "orig_nbformat": 4
 },
 "nbformat": 4,
 "nbformat_minor": 2
}
