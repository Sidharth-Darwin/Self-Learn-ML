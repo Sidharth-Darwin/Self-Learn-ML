{
 "cells": [
  {
   "cell_type": "code",
   "execution_count": 94,
   "metadata": {},
   "outputs": [],
   "source": [
    "import pandas as pd\n",
    "import numpy as np\n",
    "from sklearn.impute import KNNImputer,SimpleImputer\n",
    "from sklearn.preprocessing import StandardScaler, OneHotEncoder\n",
    "from sklearn.ensemble import RandomForestClassifier"
   ]
  },
  {
   "cell_type": "code",
   "execution_count": 95,
   "metadata": {},
   "outputs": [],
   "source": [
    "train_data = pd.read_csv('C:\\\\Users\\\\SIDDU\\\\OneDrive\\\\Desktop\\\\work\\\\selflearnml\\\\titanic\\\\train.csv')\n",
    "test_data = pd.read_csv('C:\\\\Users\\\\SIDDU\\\\OneDrive\\\\Desktop\\\\work\\\\selflearnml\\\\titanic\\\\test.csv')\n",
    "valid_data = pd.read_csv('C:\\\\Users\\\\SIDDU\\\\OneDrive\\\\Desktop\\\\work\\\\selflearnml\\\\titanic\\\\gender_submission.csv')"
   ]
  },
  {
   "cell_type": "code",
   "execution_count": 96,
   "metadata": {},
   "outputs": [
    {
     "name": "stdout",
     "output_type": "stream",
     "text": [
      "0.8133971291866029\n"
     ]
    }
   ],
   "source": [
    "# normal method\n",
    "X_train = train_data.drop([\"Survived\",\"Name\",\"Cabin\",\"Ticket\"],axis=1)\n",
    "y_train = train_data.Survived\n",
    "X_test = test_data.drop([\"Name\",\"Cabin\",\"Ticket\"],axis=1)\n",
    "y_test = valid_data.drop([\"PassengerId\"],axis=1)\n",
    "cat_cols = [col for col in X_train.columns if X_train[col].dtypes == 'O']\n",
    "num_cols = [col for col in X_train.columns if X_train[col].dtypes == 'int64' or X_train[col].dtypes == 'float64']\n",
    "imp = KNNImputer()\n",
    "X_train_imputed = imp.fit_transform(X_train[num_cols])\n",
    "X_test_imputed = imp.transform(X_test[num_cols])\n",
    "ohe = OneHotEncoder(sparse=False,handle_unknown='ignore')\n",
    "X_train_encoded = ohe.fit_transform(X_train[cat_cols])\n",
    "X_test_encoded = ohe.transform(X_test[cat_cols])\n",
    "X_train_final = np.append(X_train_imputed,X_train_encoded,axis=1)\n",
    "X_test_final = np.append(X_test_imputed,X_test_encoded,axis=1)\n",
    "model = RandomForestClassifier(n_estimators=100,random_state=0)\n",
    "model.fit(X_train_final,y_train)\n",
    "predictions = model.predict(X_test_final)\n",
    "from sklearn.metrics import accuracy_score\n",
    "print(accuracy_score(y_test,predictions))"
   ]
  },
  {
   "cell_type": "code",
   "execution_count": 97,
   "metadata": {},
   "outputs": [
    {
     "name": "stdout",
     "output_type": "stream",
     "text": [
      "0.8133971291866029\n"
     ]
    }
   ],
   "source": [
    "# Using pipelines and column transformers\n",
    "X_train = train_data.drop([\"Survived\",\"Name\",\"Cabin\",\"Ticket\"],axis=1)\n",
    "y_train = train_data.Survived\n",
    "X_test = test_data.drop([\"Name\",\"Cabin\",\"Ticket\"],axis=1)\n",
    "y_test = valid_data.drop([\"PassengerId\"],axis=1)\n",
    "from sklearn.pipeline import Pipeline\n",
    "from sklearn.compose import ColumnTransformer\n",
    "pl1 = Pipeline([\n",
    "    (\"step1\", KNNImputer()),\n",
    "    (\"step2\", StandardScaler()),\n",
    "])\n",
    "pl2 = Pipeline([\n",
    "    (\"step1\", SimpleImputer(strategy='constant')),\n",
    "    (\"step2\", OneHotEncoder(sparse=False, handle_unknown='ignore')),\n",
    "])\n",
    "cat_cols = [col for col in X_train.columns if X_train[col].dtypes == 'O']\n",
    "num_cols = [col for col in X_train.columns if X_train[col].dtypes == 'int64' or X_train[col].dtypes == 'float64']\n",
    "ct = ColumnTransformer([\n",
    "    (\"step1\",pl1,num_cols),\n",
    "    (\"step2\",pl2,cat_cols),\n",
    "])\n",
    "final_pl = Pipeline([\n",
    "    (\"step1\",ct),\n",
    "    (\"step2\",RandomForestClassifier(n_estimators=100,random_state=0)),\n",
    "])\n",
    "final_pl.fit(X_train,y_train)\n",
    "predictions2 = final_pl.predict(X_test)\n",
    "from sklearn.metrics import accuracy_score\n",
    "print(accuracy_score(y_test,predictions2))"
   ]
  },
  {
   "cell_type": "code",
   "execution_count": 98,
   "metadata": {},
   "outputs": [
    {
     "name": "stdout",
     "output_type": "stream",
     "text": [
      "0.8048145125855252\n",
      "0.8133971291866029\n"
     ]
    }
   ],
   "source": [
    "# Using cross validation \n",
    "X_train = train_data.drop([\"Survived\",\"Name\",\"Cabin\",\"Ticket\"],axis=1)\n",
    "y_train = train_data.Survived\n",
    "X_test = test_data.drop([\"Name\",\"Cabin\",\"Ticket\"],axis=1)\n",
    "y_test = valid_data.drop([\"PassengerId\"],axis=1)\n",
    "from sklearn.pipeline import Pipeline\n",
    "from sklearn.compose import ColumnTransformer\n",
    "pl1 = Pipeline([\n",
    "    (\"step1\", KNNImputer()),\n",
    "    (\"step2\", StandardScaler()),\n",
    "])\n",
    "pl2 = Pipeline([\n",
    "    (\"step1\", SimpleImputer(strategy='constant')),\n",
    "    (\"step2\", OneHotEncoder(sparse=False, handle_unknown='ignore')),\n",
    "])\n",
    "cat_cols = [col for col in X_train.columns if X_train[col].dtypes == 'O']\n",
    "num_cols = [col for col in X_train.columns if X_train[col].dtypes == 'int64' or X_train[col].dtypes == 'float64']\n",
    "ct = ColumnTransformer([\n",
    "    (\"step1\",pl1,num_cols),\n",
    "    (\"step2\",pl2,cat_cols),\n",
    "])\n",
    "final_pl = Pipeline([\n",
    "    (\"step1\",ct),\n",
    "    (\"step2\",RandomForestClassifier(n_estimators=100,random_state=0)),\n",
    "])\n",
    "from sklearn.model_selection import cross_val_score\n",
    "cvs = cross_val_score(final_pl,X_train,y_train,cv=5,scoring='accuracy')\n",
    "print(cvs.mean())\n",
    "final_pl.fit(X_train,y_train)\n",
    "predictions2 = final_pl.predict(X_test)\n",
    "from sklearn.metrics import accuracy_score\n",
    "print(accuracy_score(y_test,predictions2))"
   ]
  }
 ],
 "metadata": {
  "interpreter": {
   "hash": "1652d30edbf08f5362f1dcb83ebe97343cb02d64d958a3fa60e7428774df2a16"
  },
  "kernelspec": {
   "display_name": "Python 3.7.4 64-bit ('labsession': venv)",
   "language": "python",
   "name": "python3"
  },
  "language_info": {
   "codemirror_mode": {
    "name": "ipython",
    "version": 3
   },
   "file_extension": ".py",
   "mimetype": "text/x-python",
   "name": "python",
   "nbconvert_exporter": "python",
   "pygments_lexer": "ipython3",
   "version": "3.7.4"
  },
  "orig_nbformat": 4
 },
 "nbformat": 4,
 "nbformat_minor": 2
}
